{
 "cells": [
  {
   "cell_type": "code",
   "execution_count": 1,
   "id": "94d7c60e",
   "metadata": {},
   "outputs": [],
   "source": [
    "def winnerChecker(board):\n",
    " \n",
    "    for i in range(3):\n",
    "        if board[i][0] == board[i][1] == board[i][2] != '':\n",
    "            return board[i][0]\n",
    "        if board[0][i] == board[1][i] == board[2][i] != '':\n",
    "            return board[0][i]\n",
    "\n",
    "\n",
    "    \n",
    "    if (board[0][0] == board[1][1] == board[2][2] != '') or (board[0][2] == board[1][1] == board[2][0] != ''):\n",
    "        return board[1][1]\n",
    "\n",
    "\n",
    "    \n",
    "    if all(cell != '' for row in board for cell in row):\n",
    "        return 'tie'\n",
    "    \n",
    "    return None"
   ]
  },
  {
   "cell_type": "code",
   "execution_count": 2,
   "id": "8f557236",
   "metadata": {},
   "outputs": [],
   "source": [
    "def printBoard(board):\n",
    "\n",
    "    for i, row in enumerate(board):\n",
    "        print(' ' + ' | '.join(cell if cell else ' ' for cell in row))\n",
    "        if i < len(board) - 1:\n",
    "            print(\"---+---+---\")\n"
   ]
  },
  {
   "cell_type": "code",
   "execution_count": 3,
   "id": "9e837f2c",
   "metadata": {},
   "outputs": [],
   "source": [
    "def playerMove(board):\n",
    "\n",
    "    while True:\n",
    "        try:\n",
    "            inputStr = input(\"Enter your move in the format of 2 numbers (coordinates) of (row col): \")\n",
    "            row, col = [int(x) for x in inputStr.split()]\n",
    "            if board[row][col] == '':\n",
    "                return row, col\n",
    "            else:\n",
    "                print(\"Cell is occupied. Choose a different spot\")\n",
    "        except (ValueError, IndexError):\n",
    "            print(\"Invalid input. Please enter valid row and column numbers.\")"
   ]
  },
  {
   "cell_type": "code",
   "execution_count": 4,
   "id": "c2ec454d",
   "metadata": {},
   "outputs": [],
   "source": [
    "def minimax(board, decisionDepth, isMaximizing, scores, ai, human):\n",
    "\n",
    "    result = winnerChecker(board)\n",
    "    if result is not None:\n",
    "        return scores[result]\n",
    "    \n",
    "    optScore = -float('inf') if isMaximizing else float('inf')\n",
    "    player = ai if isMaximizing else human\n",
    "    compare = max if isMaximizing else min\n",
    "\n",
    "    for i in range(3):\n",
    "        for j in range(3):\n",
    "            if board[i][j] == '':\n",
    "                board[i][j] = player\n",
    "                score = minimax(board, decisionDepth + 1, not isMaximizing, scores, ai, human)\n",
    "                board[i][j] = ''\n",
    "                optScore = compare(score, optScore)\n",
    "\n",
    "    return optScore"
   ]
  },
  {
   "cell_type": "code",
   "execution_count": 5,
   "id": "35e175a8",
   "metadata": {},
   "outputs": [],
   "source": [
    "def AIbestMove(board, scores, ai, human):\n",
    "\n",
    "    bestScore = -float('inf')\n",
    "    move = None\n",
    "    for i in range(3):\n",
    "        for j in range(3):\n",
    "            if board[i][j] == '':\n",
    "                board[i][j] = ai\n",
    "                score = minimax(board, 0, False, scores, ai, human)\n",
    "                board[i][j] = ''\n",
    "                if score > bestScore:\n",
    "                    bestScore = score\n",
    "                    move = (i, j)\n",
    "    return move\n"
   ]
  },
  {
   "cell_type": "code",
   "execution_count": null,
   "id": "fb6d6b01",
   "metadata": {},
   "outputs": [
    {
     "name": "stdout",
     "output_type": "stream",
     "text": [
      "   |   |  \n",
      "---+---+---\n",
      "   |   |  \n",
      "---+---+---\n",
      "   |   |  \n"
     ]
    }
   ],
   "source": [
    "def main():\n",
    "\n",
    "    board = [['', '', ''], ['', '', ''], ['', '', '']]\n",
    "\n",
    "    ai = 'X'\n",
    "    human = 'O'\n",
    "    scores = {'X': 1, 'O': -1, 'tie': 0}\n",
    "\n",
    "    currPlayer = human  \n",
    "\n",
    "    while True:\n",
    "        printBoard(board)\n",
    "\n",
    "        if currPlayer == human:\n",
    "            row, col = playerMove(board)\n",
    "            board[row][col] = human\n",
    "        else:\n",
    "            row, col = AIbestMove(board, scores, ai, human)\n",
    "            board[row][col] = ai\n",
    "            print(f\"AI played at ({row}, {col})\")\n",
    "\n",
    "        winner = winnerChecker(board)\n",
    "        if winner:\n",
    "            printBoard(board)\n",
    "            if winner == 'tie':\n",
    "                print(\"It's a tie!\")\n",
    "            else:\n",
    "                print(f\"{'Player' if winner == human else 'AI'} wins!\")\n",
    "            break\n",
    "\n",
    "        currPlayer = human if currPlayer == ai else ai\n",
    "\n",
    "main()"
   ]
  }
 ],
 "metadata": {
  "kernelspec": {
   "display_name": "Python 3 (ipykernel)",
   "language": "python",
   "name": "python3"
  },
  "language_info": {
   "codemirror_mode": {
    "name": "ipython",
    "version": 3
   },
   "file_extension": ".py",
   "mimetype": "text/x-python",
   "name": "python",
   "nbconvert_exporter": "python",
   "pygments_lexer": "ipython3",
   "version": "3.9.13"
  }
 },
 "nbformat": 4,
 "nbformat_minor": 5
}
